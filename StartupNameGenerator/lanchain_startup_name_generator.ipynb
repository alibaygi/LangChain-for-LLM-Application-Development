{
 "cells": [
  {
   "cell_type": "markdown",
   "id": "2c26845d",
   "metadata": {},
   "source": [
    "# Langchain crash course"
   ]
  },
  {
   "cell_type": "code",
   "execution_count": 1,
   "id": "f31c4cc6",
   "metadata": {},
   "outputs": [],
   "source": [
    "##Method one (already defined key)\n",
    "\n",
    "from secret_key import openapi_key\n",
    "import os\n",
    "os.environ['OPENAI_API_KEY'] = openapi_key\n",
    "\n",
    "###Method two\n",
    "#import os\n",
    "#os.environ['OPENAI_API_KEY'] = \"add your key here\"\n"
   ]
  },
  {
   "cell_type": "markdown",
   "id": "9ed0dc6a",
   "metadata": {},
   "source": [
    "## LLMs"
   ]
  },
  {
   "cell_type": "code",
   "execution_count": 2,
   "id": "fa352d5f",
   "metadata": {
    "scrolled": true
   },
   "outputs": [
    {
     "name": "stdout",
     "output_type": "stream",
     "text": [
      "\n",
      "\n",
      "Maharaja's Spice Den\n"
     ]
    }
   ],
   "source": [
    "from langchain.llms import OpenAI\n",
    "\n",
    "llm = OpenAI(temperature=0.9)\n",
    "name = llm.predict(\"I want to open a restaurant for Indian food. Suggest a fency name for this.\")\n",
    "print(name)"
   ]
  },
  {
   "cell_type": "code",
   "execution_count": 3,
   "id": "b56e8581",
   "metadata": {},
   "outputs": [
    {
     "data": {
      "text/plain": [
       "'\\n\\nRoyal Tandoori Palace'"
      ]
     },
     "execution_count": 3,
     "metadata": {},
     "output_type": "execute_result"
    }
   ],
   "source": [
    "llm(\"I want to open a restaurant for Indian food. Suggest a fency name for this.\")"
   ]
  },
  {
   "cell_type": "markdown",
   "id": "5c2ce9eb",
   "metadata": {},
   "source": [
    "### Startup fancy name generator\n",
    "\n",
    "Selecting a field for a startup involves considering various factors, including your interests, expertise, market trends, and potential for growth. Here are a few fields with promising opportunities:\n",
    "\n",
    "- Technology and Software Services: This field continuously evolves and offers opportunities in areas like software development, AI, cybersecurity, and cloud computing. With the digital transformation across industries, there's a growing demand for tech solutions.\n",
    "\n",
    "- Healthcare and Wellness: Innovations in healthcare tech, telemedicine, personalized medicine, and wellness services are highly sought after due to aging populations and increasing health consciousness.\n",
    "\n",
    "- Sustainability and Clean Energy: With growing environmental concerns, startups focusing on renewable energy, eco-friendly products, waste management, or sustainable practices have potential in today's market.\n",
    "\n",
    "- E-commerce and Retail Tech: Online retail continues to expand, and niche markets within e-commerce, such as sustainable products, specialized goods, or personalized shopping experiences, offer opportunities.\n",
    "\n",
    "- Fintech: Financial technology is another promising area, encompassing payment solutions, blockchain, lending platforms, and personal finance management apps.\n",
    "\n",
    "- Education Technology (EdTech): With the shift to remote learning, there's a growing demand for innovative educational tools, online courses, and platforms that facilitate learning."
   ]
  },
  {
   "cell_type": "code",
   "execution_count": 9,
   "id": "81242b7e",
   "metadata": {},
   "outputs": [
    {
     "name": "stdout",
     "output_type": "stream",
     "text": [
      ".\n",
      "\n",
      "GreenChron Energy Solutions\n"
     ]
    }
   ],
   "source": [
    "from langchain.prompts import PromptTemplate\n",
    "from langchain.chains import LLMChain\n",
    "name_prompt = PromptTemplate(\n",
    "    input_variables=['business_field'],\n",
    "    template = \"I want to open a startup in the field of {business_field}.Suggest me a fancy name for this\")\n",
    "\n",
    "#prompt_example = prompt_tem.format(business_field=\"Sustainability and Clean Energy\")\n",
    "name_chain = LLMChain(llm=llm, prompt=name_prompt, output_key=\"startup_name\")\n",
    "\n",
    "##########\n",
    "\n",
    "roles_prompt = PromptTemplate(\n",
    "    input_variables = ['startup_name'],\n",
    "    template = \"Suggest some roles or positions for {startup_name}\")\n",
    "\n",
    "#prompt_example = prompt_tem.format(business_name=\"Cosmetic\")\n",
    "roles_chain = LLMChain(llm=llm, prompt=roles_prompt, output_key=\"roles\")\n",
    "print(name_chain.run(\"Sustainability and Clean Energy\"))\n"
   ]
  },
  {
   "cell_type": "code",
   "execution_count": 10,
   "id": "a6efeec8",
   "metadata": {},
   "outputs": [
    {
     "name": "stdout",
     "output_type": "stream",
     "text": [
      "\n",
      "\n",
      "1. Business Development Manager\n",
      "2. Sales Representative\n",
      "3. Operations Manager\n",
      "4. Project Manager\n",
      "5. Renewable Energy Engineer\n",
      "6. Maintenance Technician\n",
      "7. Solar Panel Installer\n",
      "8. Solar Energy Analyst\n",
      "9. Energy Efficiency Consultant\n",
      "10. Green Energy Procurement Consultant\n"
     ]
    }
   ],
   "source": [
    "print(roles_chain.run(\"GreenFuturesEnergy\"))"
   ]
  },
  {
   "cell_type": "code",
   "execution_count": 11,
   "id": "c977faa6",
   "metadata": {},
   "outputs": [
    {
     "name": "stdout",
     "output_type": "stream",
     "text": [
      "\n",
      "\n",
      "1. Chief Innovation Officer\n",
      "2. Sustainability Strategist\n",
      "3. Business Development Manager\n",
      "4. Research and Development Manager\n",
      "5. Project Manager\n",
      "6. Energy Efficiency Engineer\n",
      "7. Climate Change Researcher\n",
      "8. Environmental Manager\n",
      "9. Ecological Researcher\n",
      "10. Renewable Energy Engineer\n"
     ]
    }
   ],
   "source": [
    "from langchain.chains import SimpleSequentialChain\n",
    "chain = SimpleSequentialChain(chains = [name_chain, roles_chain]) #the second output would be input to the first chain\n",
    "\n",
    "content = chain.run(\"Sustainability and Clean Energy\")\n",
    "print(content)"
   ]
  },
  {
   "cell_type": "code",
   "execution_count": 13,
   "id": "37185147",
   "metadata": {},
   "outputs": [],
   "source": [
    "from langchain.chains import SequentialChain\n",
    "\n",
    "chain = SequentialChain(\n",
    "    chains=[name_chain, roles_chain],\n",
    "    input_variables=['business_field'],\n",
    "    output_variables=['startup_name',\"roles\"]\n",
    "    \n",
    ")\n",
    "\n",
    "business = \"Sustainability and Clean Energy\"\n",
    "response = chain({'business_field': business})\n"
   ]
  },
  {
   "cell_type": "code",
   "execution_count": 16,
   "id": "40d3f663",
   "metadata": {},
   "outputs": [
    {
     "data": {
      "text/plain": [
       "{'business_field': 'Sustainability and Clean Energy',\n",
       " 'startup_name': ' startup\\n\\nGreenFuturis Technologies.',\n",
       " 'roles': '\\n\\n1. Chief Executive Officer\\n2. Chief Operating Officer\\n3. Chief Strategy Officer\\n4. Chief Technology Officer\\n5. Business Development Manager\\n6. Sales Manager\\n7. Marketing Manager\\n8. Human Resources Manager\\n9. Financial Manager\\n10. Creative Director\\n11. Software Architect\\n12. Project Manager\\n13. User Experience Researcher \\n14. Mobile App Developer \\n15. Quality Assurance Analyst \\n16. Data Analyst\\n17. Technical Writer\\n18. Web Designer\\n19. Graphic Designer'}"
      ]
     },
     "execution_count": 16,
     "metadata": {},
     "output_type": "execute_result"
    }
   ],
   "source": [
    "response"
   ]
  },
  {
   "cell_type": "code",
   "execution_count": 15,
   "id": "3d640e5f",
   "metadata": {},
   "outputs": [
    {
     "data": {
      "text/plain": [
       "'Sustainability and Clean Energy'"
      ]
     },
     "execution_count": 15,
     "metadata": {},
     "output_type": "execute_result"
    }
   ],
   "source": [
    "response[\"business_field\"]"
   ]
  }
 ],
 "metadata": {
  "hide_input": false,
  "kernelspec": {
   "display_name": "Python [conda env:mytransfenv]",
   "language": "python",
   "name": "conda-env-mytransfenv-py"
  },
  "language_info": {
   "codemirror_mode": {
    "name": "ipython",
    "version": 3
   },
   "file_extension": ".py",
   "mimetype": "text/x-python",
   "name": "python",
   "nbconvert_exporter": "python",
   "pygments_lexer": "ipython3",
   "version": "3.9.13"
  }
 },
 "nbformat": 4,
 "nbformat_minor": 5
}
